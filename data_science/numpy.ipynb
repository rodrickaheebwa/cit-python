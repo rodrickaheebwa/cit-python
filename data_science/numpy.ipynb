{
 "cells": [
  {
   "cell_type": "code",
   "execution_count": 1,
   "id": "7d964097",
   "metadata": {},
   "outputs": [],
   "source": [
    "import numpy as np\n",
    "import statistics as st"
   ]
  },
  {
   "cell_type": "code",
   "execution_count": 4,
   "id": "bbcbb286",
   "metadata": {},
   "outputs": [
    {
     "data": {
      "text/plain": [
       "array([1, 2])"
      ]
     },
     "execution_count": 4,
     "metadata": {},
     "output_type": "execute_result"
    }
   ],
   "source": [
    "np.array([1,2])"
   ]
  },
  {
   "cell_type": "code",
   "execution_count": 5,
   "id": "74a405fd",
   "metadata": {},
   "outputs": [
    {
     "name": "stdout",
     "output_type": "stream",
     "text": [
      "[1 2]\n"
     ]
    }
   ],
   "source": [
    "print(np.array([1,2]))"
   ]
  },
  {
   "cell_type": "code",
   "execution_count": 8,
   "id": "f6318a92",
   "metadata": {},
   "outputs": [
    {
     "name": "stdout",
     "output_type": "stream",
     "text": [
      "[[1 2]\n",
      " [3 4]\n",
      " [5 6]]\n"
     ]
    }
   ],
   "source": [
    "print(np.array([[1,2], [3,4], [5,6]]))"
   ]
  },
  {
   "cell_type": "code",
   "execution_count": 14,
   "id": "1a87dfb9",
   "metadata": {},
   "outputs": [],
   "source": [
    "marks = np.array([[78,67,90],[34,55,23],[12,90,45]])"
   ]
  },
  {
   "cell_type": "code",
   "execution_count": 15,
   "id": "0460f45a",
   "metadata": {},
   "outputs": [
    {
     "data": {
      "text/plain": [
       "90"
      ]
     },
     "execution_count": 15,
     "metadata": {},
     "output_type": "execute_result"
    }
   ],
   "source": [
    "st.mode(marks.flatten())"
   ]
  },
  {
   "cell_type": "code",
   "execution_count": 16,
   "id": "ebd743c2",
   "metadata": {},
   "outputs": [],
   "source": [
    "my_arr = np.array([[i for i in range(4)] for _ in range(4)])"
   ]
  },
  {
   "cell_type": "code",
   "execution_count": 18,
   "id": "062857e0",
   "metadata": {},
   "outputs": [
    {
     "data": {
      "text/plain": [
       "2"
      ]
     },
     "execution_count": 18,
     "metadata": {},
     "output_type": "execute_result"
    }
   ],
   "source": [
    "my_arr.ndim"
   ]
  },
  {
   "cell_type": "code",
   "execution_count": 20,
   "id": "fc266af9",
   "metadata": {},
   "outputs": [
    {
     "data": {
      "text/plain": [
       "array([[0, 1, 2, 3],\n",
       "       [0, 1, 2, 3],\n",
       "       [0, 1, 2, 3],\n",
       "       [0, 1, 2, 3]])"
      ]
     },
     "execution_count": 20,
     "metadata": {},
     "output_type": "execute_result"
    }
   ],
   "source": [
    "my_arr"
   ]
  },
  {
   "cell_type": "code",
   "execution_count": 1,
   "id": "1df6ee63",
   "metadata": {},
   "outputs": [],
   "source": [
    "# 2d array: [2][3] => you want 2 one dimension arrays, each with 3 elements\n",
    "    # one dimensional arrays are the rows\n",
    "# 3d array: [2][3][3] => you want 2 two dimension arrays, each of them a 3*3 2d array\n",
    "    # two dimensional arrays are the rows"
   ]
  },
  {
   "cell_type": "code",
   "execution_count": 6,
   "id": "4fbbb84f",
   "metadata": {},
   "outputs": [],
   "source": [
    "davids_marks = np.array([\n",
    "    [78, 67, 90],\n",
    "    [34, 55, 23],\n",
    "    [12, 89, 45]\n",
    "])"
   ]
  },
  {
   "cell_type": "code",
   "execution_count": 2,
   "id": "1b7638f1",
   "metadata": {},
   "outputs": [
    {
     "name": "stdout",
     "output_type": "stream",
     "text": [
      "[ 1  2  3  4  5  6  7  8  9 10 11 12]\n",
      "[[ 1  2  3]\n",
      " [ 4  5  6]\n",
      " [ 7  8  9]\n",
      " [10 11 12]]\n",
      "[[ 1  2  3  4  5  6]\n",
      " [ 7  8  9 10 11 12]]\n",
      "[[[ 1  2]\n",
      "  [ 3  4]\n",
      "  [ 5  6]]\n",
      "\n",
      " [[ 7  8]\n",
      "  [ 9 10]\n",
      "  [11 12]]]\n"
     ]
    }
   ],
   "source": [
    "arr = np.array([i+1 for i in range(12)])\n",
    "print(arr)\n",
    "# [ 1  2  3  4  5  6  7  8  9 10 11 12]\n",
    "# [[1, 2, 3],[4, 5, 6],[7, 8, 9],[10, 11, 12]]\n",
    "# [[1, 2, 3, 4, 5, 6],[7, 8, 9, 10, 11, 12]]\n",
    "arr = arr.reshape(4, 3)\n",
    "print(arr)\n",
    "arr = arr.reshape(2, 6)\n",
    "print(arr)\n",
    "# two arrays -> three arrays -> elements\n",
    "# [[[1, 2], [3, 4], [5, 6]],[[7, 8], [9, 10], [11, 12]]]\n",
    "arr = arr.reshape(2, 3, 2)\n",
    "print(arr)"
   ]
  },
  {
   "cell_type": "code",
   "execution_count": 3,
   "id": "0bb3b0d6",
   "metadata": {},
   "outputs": [
    {
     "name": "stdout",
     "output_type": "stream",
     "text": [
      "3\n"
     ]
    }
   ],
   "source": [
    "arr = np.array([[[1], [2], [3], [4]],[[5], [6], [7], [8]],[[9], [10], [11], [12]]])\n",
    "print(arr.ndim)"
   ]
  },
  {
   "cell_type": "code",
   "execution_count": null,
   "id": "235ee1aa",
   "metadata": {},
   "outputs": [],
   "source": []
  }
 ],
 "metadata": {
  "kernelspec": {
   "display_name": "Python 3 (ipykernel)",
   "language": "python",
   "name": "python3"
  },
  "language_info": {
   "codemirror_mode": {
    "name": "ipython",
    "version": 3
   },
   "file_extension": ".py",
   "mimetype": "text/x-python",
   "name": "python",
   "nbconvert_exporter": "python",
   "pygments_lexer": "ipython3",
   "version": "3.9.12"
  }
 },
 "nbformat": 4,
 "nbformat_minor": 5
}
