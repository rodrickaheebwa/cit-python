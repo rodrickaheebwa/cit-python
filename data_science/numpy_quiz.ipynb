{
 "cells": [
  {
   "cell_type": "code",
   "execution_count": 16,
   "id": "03afe736",
   "metadata": {},
   "outputs": [],
   "source": [
    "import numpy as np\n",
    "import statistics as st"
   ]
  },
  {
   "cell_type": "code",
   "execution_count": 7,
   "id": "cbfba080",
   "metadata": {},
   "outputs": [],
   "source": [
    "# number 1\n",
    "\n",
    "# c = [5 7 9]"
   ]
  },
  {
   "cell_type": "code",
   "execution_count": 18,
   "id": "1accd1b9",
   "metadata": {},
   "outputs": [
    {
     "data": {
      "text/plain": [
       "array([[0, 0, 0, 0, 0],\n",
       "       [0, 0, 0, 0, 0]])"
      ]
     },
     "execution_count": 18,
     "metadata": {},
     "output_type": "execute_result"
    }
   ],
   "source": [
    "# number 2\n",
    "\n",
    "arr = np.array([0 for _ in range(10)])\n",
    "arr = arr.reshape(2,5)\n",
    "arr"
   ]
  },
  {
   "cell_type": "code",
   "execution_count": 23,
   "id": "28a8bfd9",
   "metadata": {},
   "outputs": [
    {
     "name": "stdout",
     "output_type": "stream",
     "text": [
      "10.5\n",
      "10.5\n",
      "5.766281297335398\n",
      "1\n"
     ]
    }
   ],
   "source": [
    "# number 3\n",
    "\n",
    "data = [1, 2, 3, 4, 5, 6, 7, 8, 9, 10, 11, 12, 13, 14, 15, 16, 17, 18, 19, 20]\n",
    "\n",
    "print(np.mean(data))\n",
    "print(np.median(data))\n",
    "print(np.std(data))\n",
    "print(st.mode(data))"
   ]
  },
  {
   "cell_type": "code",
   "execution_count": 45,
   "id": "e8c26f4d",
   "metadata": {},
   "outputs": [
    {
     "name": "stdout",
     "output_type": "stream",
     "text": [
      "[[ 4 22 10 14  5 17]\n",
      " [11  6 27 30 27 16]\n",
      " [11  7 19  8 12 10]\n",
      " [30  7 24 25 29  7]\n",
      " [20 27 22 25  1 21]\n",
      " [ 1 11 28 30 19 23]]\n",
      "30\n",
      "1\n"
     ]
    }
   ],
   "source": [
    "# number 4\n",
    "from random import randint\n",
    "arr = np.array([[randint(1,30) for _ in range(6)] for _ in range(6)])\n",
    "print(arr)\n",
    "print(np.max(arr))\n",
    "print(np.min(arr))"
   ]
  },
  {
   "cell_type": "code",
   "execution_count": 54,
   "id": "d4a8fea8",
   "metadata": {
    "scrolled": true
   },
   "outputs": [
    {
     "data": {
      "text/plain": [
       "array([[ 5,  4,  6,  9],\n",
       "       [ 1,  0,  9,  5],\n",
       "       [ 4,  9, 13, 19],\n",
       "       [ 8, 10,  1,  5]])"
      ]
     },
     "execution_count": 54,
     "metadata": {},
     "output_type": "execute_result"
    }
   ],
   "source": [
    "# number 5\n",
    "\n",
    "arr = np.array( [[[ 5,  4],\n",
    "      [ 6,  9]],\n",
    " \n",
    "      [[ 1,  0],\n",
    "      [ 9,  5]],\n",
    " \n",
    "      [[ 4,  9],\n",
    "      [13, 19]],\n",
    "                  \n",
    "      [[ 8, 10],\n",
    "      [ 1, 5]]])\n",
    "arr.reshape(4,4)"
   ]
  },
  {
   "cell_type": "code",
   "execution_count": 56,
   "id": "e2fd11a0",
   "metadata": {},
   "outputs": [
    {
     "data": {
      "text/plain": [
       "array([1, 2, 3, 4, 5, 6, 7, 8, 9])"
      ]
     },
     "execution_count": 56,
     "metadata": {},
     "output_type": "execute_result"
    }
   ],
   "source": [
    "# number 6\n",
    "data = [[1, 2, 3], [4, 5, 6], [7, 8, 9]]\n",
    "np.array(data).flatten()"
   ]
  },
  {
   "cell_type": "code",
   "execution_count": null,
   "id": "88ea66c9",
   "metadata": {},
   "outputs": [],
   "source": []
  }
 ],
 "metadata": {
  "kernelspec": {
   "display_name": "Python 3 (ipykernel)",
   "language": "python",
   "name": "python3"
  },
  "language_info": {
   "codemirror_mode": {
    "name": "ipython",
    "version": 3
   },
   "file_extension": ".py",
   "mimetype": "text/x-python",
   "name": "python",
   "nbconvert_exporter": "python",
   "pygments_lexer": "ipython3",
   "version": "3.9.12"
  }
 },
 "nbformat": 4,
 "nbformat_minor": 5
}
